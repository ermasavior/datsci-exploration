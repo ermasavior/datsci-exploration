{
 "cells": [
  {
   "cell_type": "markdown",
   "metadata": {},
   "source": [
    "# W02 - General Data Preprocessing\n",
    "In this hands-on session, we will learn some basic data pre-processings, which include:\n",
    "1. duplicated data handling,\n",
    "2. missing value handling,\n",
    "3. data transformation (scalling and converting 'categorical data' to 'numerical data'),\n",
    "4. (additional) strength indicator of a relationship between two variables."
   ]
  },
  {
   "cell_type": "markdown",
   "metadata": {},
   "source": [
    "## Read dataset \"raw-flight-data.csv\"\n",
    "1. Download the dataset \"purchases.csv\" in the course portal \"IF4041 Ilmu Data dan Penggalian Data\"."
   ]
  },
  {
   "cell_type": "code",
   "execution_count": 1,
   "metadata": {},
   "outputs": [
    {
     "data": {
      "text/html": [
       "<div>\n",
       "<style scoped>\n",
       "    .dataframe tbody tr th:only-of-type {\n",
       "        vertical-align: middle;\n",
       "    }\n",
       "\n",
       "    .dataframe tbody tr th {\n",
       "        vertical-align: top;\n",
       "    }\n",
       "\n",
       "    .dataframe thead th {\n",
       "        text-align: right;\n",
       "    }\n",
       "</style>\n",
       "<table border=\"1\" class=\"dataframe\">\n",
       "  <thead>\n",
       "    <tr style=\"text-align: right;\">\n",
       "      <th></th>\n",
       "      <th>DayofMonth</th>\n",
       "      <th>DayOfWeek</th>\n",
       "      <th>Carrier</th>\n",
       "      <th>OriginAirportID</th>\n",
       "      <th>DestAirportID</th>\n",
       "      <th>DepDelay</th>\n",
       "      <th>ArrDelay</th>\n",
       "    </tr>\n",
       "  </thead>\n",
       "  <tbody>\n",
       "    <tr>\n",
       "      <th>0</th>\n",
       "      <td>19</td>\n",
       "      <td>5</td>\n",
       "      <td>DL</td>\n",
       "      <td>11433</td>\n",
       "      <td>13303</td>\n",
       "      <td>-3.0</td>\n",
       "      <td>1.0</td>\n",
       "    </tr>\n",
       "    <tr>\n",
       "      <th>1</th>\n",
       "      <td>19</td>\n",
       "      <td>5</td>\n",
       "      <td>DL</td>\n",
       "      <td>14869</td>\n",
       "      <td>12478</td>\n",
       "      <td>0.0</td>\n",
       "      <td>-8.0</td>\n",
       "    </tr>\n",
       "    <tr>\n",
       "      <th>2</th>\n",
       "      <td>19</td>\n",
       "      <td>5</td>\n",
       "      <td>DL</td>\n",
       "      <td>14057</td>\n",
       "      <td>14869</td>\n",
       "      <td>-4.0</td>\n",
       "      <td>-15.0</td>\n",
       "    </tr>\n",
       "    <tr>\n",
       "      <th>3</th>\n",
       "      <td>19</td>\n",
       "      <td>5</td>\n",
       "      <td>DL</td>\n",
       "      <td>15016</td>\n",
       "      <td>11433</td>\n",
       "      <td>28.0</td>\n",
       "      <td>24.0</td>\n",
       "    </tr>\n",
       "    <tr>\n",
       "      <th>4</th>\n",
       "      <td>19</td>\n",
       "      <td>5</td>\n",
       "      <td>DL</td>\n",
       "      <td>11193</td>\n",
       "      <td>12892</td>\n",
       "      <td>-6.0</td>\n",
       "      <td>-11.0</td>\n",
       "    </tr>\n",
       "  </tbody>\n",
       "</table>\n",
       "</div>"
      ],
      "text/plain": [
       "   DayofMonth  DayOfWeek Carrier  OriginAirportID  DestAirportID  DepDelay  \\\n",
       "0          19          5      DL            11433          13303      -3.0   \n",
       "1          19          5      DL            14869          12478       0.0   \n",
       "2          19          5      DL            14057          14869      -4.0   \n",
       "3          19          5      DL            15016          11433      28.0   \n",
       "4          19          5      DL            11193          12892      -6.0   \n",
       "\n",
       "   ArrDelay  \n",
       "0       1.0  \n",
       "1      -8.0  \n",
       "2     -15.0  \n",
       "3      24.0  \n",
       "4     -11.0  "
      ]
     },
     "execution_count": 1,
     "metadata": {},
     "output_type": "execute_result"
    }
   ],
   "source": [
    "import pandas as pd # import pandas library\n",
    "\n",
    "\n",
    "# read csv file into 'df' dataframe\n",
    "\n",
    "df = pd.read_csv('./dataset/raw-flight-data.csv', sep = \",\") # adjust with your own csv file path \n",
    "\n",
    "# print some data rows\n",
    "df.head()"
   ]
  },
  {
   "cell_type": "markdown",
   "metadata": {},
   "source": [
    "## Question 01 (Q01)\n",
    "The given dataset is still a 'raw dataset' with duplicated data and missing values,<br>\n",
    "1. In Q01, please delete the duplicated data and return a dataframe with no duplicated data. **Hint:** use pandas API to handle the duplicated data,<br>\n",
    "2. Print how many duplicated data. **Hint:** calculate the difference of row numbers, before and after we delete the duplicated data rows."
   ]
  },
  {
   "cell_type": "code",
   "execution_count": 2,
   "metadata": {},
   "outputs": [
    {
     "name": "stdout",
     "output_type": "stream",
     "text": [
      "22435\n"
     ]
    }
   ],
   "source": [
    "# write you own code for Q01 here\n",
    "data_series = df.drop_duplicates()\n",
    "\n",
    "count = len(df) - len(data_series)\n",
    "print(count)"
   ]
  },
  {
   "cell_type": "markdown",
   "metadata": {},
   "source": [
    "## Question 02 (Q02)\n",
    "In Q02, we will handle data rows with missing values. **Note:** in the given dataset, the missing values are only in column 'DepDelay' and 'ArrDelay'.\n",
    "1. First and naive approach is by deleting the data rows with missing value. From data in Q01, use pandas API to remove data rows with 'missing value', with specifications: (i) column subset to be checked = 'DepDelay' and 'ArrDelay', (ii) delete the data rows with **at least one missing value** in the given subset in (i),\n",
    "2. Print how many missing rows from (i),\n",
    "3. Another approach to handle missing values is by filling those missing values by their corresponding mean values, most frequent values, interpolated values, etc. In this Q02, fill the missing values in the columns of 'DepDelay' and 'ArrDelay' by their corresponding mean values.\n",
    "4. Perform 'drop missing value', similar with (1), to the result of (3). Calculate the difference of row numbers before and after. You should get '0' for this. \n",
    "5. In your opinion, what is the difference between those two techniques (delete missing values vs filling with mean values)? Which one do you prefer? Please explain your argument."
   ]
  },
  {
   "cell_type": "code",
   "execution_count": 7,
   "metadata": {},
   "outputs": [
    {
     "name": "stdout",
     "output_type": "stream",
     "text": [
      "Dropped rows for (i) approach: \n",
      "23798\n",
      "Dropped rows for (ii) approach: \n",
      "0\n"
     ]
    }
   ],
   "source": [
    "# write you own code for Q02 here\n",
    "def drop_missing_values(data_series):\n",
    "    return data_series.dropna(subset=['DepDelay', 'ArrDelay'])\n",
    "\n",
    "def count_missing_rows(data_series, cleaned_data):\n",
    "    return len(data_series) - len(cleaned_data)\n",
    "\n",
    "# (i) Drop missing values\n",
    "cleaned_data = drop_missing_values(data_series)\n",
    "print('Dropped rows for (i) approach: ')\n",
    "print(count_missing_rows(data_series, cleaned_data))\n",
    "\n",
    "# (ii) Filling missing values\n",
    "filled_df = data_series.fillna(data_series['DepDelay'].mean(), inplace=False)\n",
    "filled_df = filled_df.fillna(data_series['ArrDelay'].mean(), inplace=False)\n",
    "\n",
    "cleaned_data = drop_missing_values(filled_df)\n",
    "\n",
    "print('Dropped rows for (ii) approach: ')\n",
    "print(count_missing_rows(filled_df, cleaned_data))"
   ]
  },
  {
   "cell_type": "markdown",
   "metadata": {},
   "source": [
    "Write your answer here for Q02.5 (**Note**: in case you are not familiar, this is a 'markdown' environment) <br>\n",
    "\n",
    "When we drop missing values, we will exclude 5235 data (**0.19%**). Meanwhile when we fill the missing values with mean, we still use 100% dataset. I prefer to fill the rows with mean because 0.19% of population is huge and filling the column with average values is good enough to represent the missing values."
   ]
  },
  {
   "cell_type": "markdown",
   "metadata": {},
   "source": [
    "## Question 03 (Q03)\n",
    "There is a 'Carrier' column in the given dataset, which is a \"categorical variable\". \n",
    "1. To build a learning model, what we need is numerical data so that our data can be processed by the learning model. Please convert \"categorical valriable\" in the column of \"Carrier\" to \"numerical variable\". E.g., given [A, B, A, C], we expect to get [0, 1, 0, 2] or [1, 2, 1, 3]. "
   ]
  },
  {
   "cell_type": "code",
   "execution_count": 8,
   "metadata": {},
   "outputs": [
    {
     "data": {
      "text/html": [
       "<div>\n",
       "<style scoped>\n",
       "    .dataframe tbody tr th:only-of-type {\n",
       "        vertical-align: middle;\n",
       "    }\n",
       "\n",
       "    .dataframe tbody tr th {\n",
       "        vertical-align: top;\n",
       "    }\n",
       "\n",
       "    .dataframe thead th {\n",
       "        text-align: right;\n",
       "    }\n",
       "</style>\n",
       "<table border=\"1\" class=\"dataframe\">\n",
       "  <thead>\n",
       "    <tr style=\"text-align: right;\">\n",
       "      <th></th>\n",
       "      <th>DayofMonth</th>\n",
       "      <th>DayOfWeek</th>\n",
       "      <th>Carrier</th>\n",
       "      <th>OriginAirportID</th>\n",
       "      <th>DestAirportID</th>\n",
       "      <th>DepDelay</th>\n",
       "      <th>ArrDelay</th>\n",
       "    </tr>\n",
       "  </thead>\n",
       "  <tbody>\n",
       "    <tr>\n",
       "      <th>0</th>\n",
       "      <td>19</td>\n",
       "      <td>5</td>\n",
       "      <td>4</td>\n",
       "      <td>11433</td>\n",
       "      <td>13303</td>\n",
       "      <td>-3.0</td>\n",
       "      <td>1.0</td>\n",
       "    </tr>\n",
       "    <tr>\n",
       "      <th>1</th>\n",
       "      <td>19</td>\n",
       "      <td>5</td>\n",
       "      <td>4</td>\n",
       "      <td>14869</td>\n",
       "      <td>12478</td>\n",
       "      <td>0.0</td>\n",
       "      <td>-8.0</td>\n",
       "    </tr>\n",
       "    <tr>\n",
       "      <th>2</th>\n",
       "      <td>19</td>\n",
       "      <td>5</td>\n",
       "      <td>4</td>\n",
       "      <td>14057</td>\n",
       "      <td>14869</td>\n",
       "      <td>-4.0</td>\n",
       "      <td>-15.0</td>\n",
       "    </tr>\n",
       "    <tr>\n",
       "      <th>3</th>\n",
       "      <td>19</td>\n",
       "      <td>5</td>\n",
       "      <td>4</td>\n",
       "      <td>15016</td>\n",
       "      <td>11433</td>\n",
       "      <td>28.0</td>\n",
       "      <td>24.0</td>\n",
       "    </tr>\n",
       "    <tr>\n",
       "      <th>4</th>\n",
       "      <td>19</td>\n",
       "      <td>5</td>\n",
       "      <td>4</td>\n",
       "      <td>11193</td>\n",
       "      <td>12892</td>\n",
       "      <td>-6.0</td>\n",
       "      <td>-11.0</td>\n",
       "    </tr>\n",
       "  </tbody>\n",
       "</table>\n",
       "</div>"
      ],
      "text/plain": [
       "   DayofMonth  DayOfWeek  Carrier  OriginAirportID  DestAirportID  DepDelay  \\\n",
       "0          19          5        4            11433          13303      -3.0   \n",
       "1          19          5        4            14869          12478       0.0   \n",
       "2          19          5        4            14057          14869      -4.0   \n",
       "3          19          5        4            15016          11433      28.0   \n",
       "4          19          5        4            11193          12892      -6.0   \n",
       "\n",
       "   ArrDelay  \n",
       "0       1.0  \n",
       "1      -8.0  \n",
       "2     -15.0  \n",
       "3      24.0  \n",
       "4     -11.0  "
      ]
     },
     "execution_count": 8,
     "metadata": {},
     "output_type": "execute_result"
    }
   ],
   "source": [
    "# write you own code for Q03 here\n",
    "filled_df['Carrier'] = filled_df['Carrier'].astype('category')\n",
    "categories = filled_df.select_dtypes(['category']).columns\n",
    "\n",
    "filled_df[categories] = filled_df[categories].apply(lambda x: x.cat.codes)\n",
    "filled_df.head()"
   ]
  },
  {
   "cell_type": "markdown",
   "metadata": {},
   "source": [
    "## Question 04 (Q04)\n",
    "In some learning methods, we may perform data transformations so that we can expect a better performance (accuracy). One of the popular data transformation is **scalling**. Please do scalling the data column of \"DepDelay\" to [-1, 1]. <br>\n",
    "**Hint:** In this hands-on session, don't use libary to do scalling, we expect you use scalling formula of:<br><br>\n",
    "$$ \\widehat{X} = \\frac{(X-X_{min}) \\times (BA - BB)}{X_{max}-X_{min}} + BB,$$ <br>\n",
    "Where:<br>\n",
    "$\n",
    "\\begin{align}\n",
    "    \\widehat{X} &= \\text{scalled value}\\\\\n",
    "    X &= \\text{value being scalled}\\\\\n",
    "    X_{max}, X_{min} &= \\text{max of } X \\text{, min of }X\\\\\n",
    "    BA &= \\text{batas atas, untuk kasus kita adalah 1}\\\\\n",
    "    BB &= \\text{batas bawah, untuk kasus kita adalah -1}\\\\\n",
    "\\end{align}\n",
    "$"
   ]
  },
  {
   "cell_type": "code",
   "execution_count": 11,
   "metadata": {},
   "outputs": [
    {
     "data": {
      "text/html": [
       "<div>\n",
       "<style scoped>\n",
       "    .dataframe tbody tr th:only-of-type {\n",
       "        vertical-align: middle;\n",
       "    }\n",
       "\n",
       "    .dataframe tbody tr th {\n",
       "        vertical-align: top;\n",
       "    }\n",
       "\n",
       "    .dataframe thead th {\n",
       "        text-align: right;\n",
       "    }\n",
       "</style>\n",
       "<table border=\"1\" class=\"dataframe\">\n",
       "  <thead>\n",
       "    <tr style=\"text-align: right;\">\n",
       "      <th></th>\n",
       "      <th>DayofMonth</th>\n",
       "      <th>DayOfWeek</th>\n",
       "      <th>Carrier</th>\n",
       "      <th>OriginAirportID</th>\n",
       "      <th>DestAirportID</th>\n",
       "      <th>DepDelay</th>\n",
       "      <th>ArrDelay</th>\n",
       "    </tr>\n",
       "  </thead>\n",
       "  <tbody>\n",
       "    <tr>\n",
       "      <th>0</th>\n",
       "      <td>19</td>\n",
       "      <td>5</td>\n",
       "      <td>4</td>\n",
       "      <td>11433</td>\n",
       "      <td>13303</td>\n",
       "      <td>0.959853</td>\n",
       "      <td>1.0</td>\n",
       "    </tr>\n",
       "    <tr>\n",
       "      <th>1</th>\n",
       "      <td>19</td>\n",
       "      <td>5</td>\n",
       "      <td>4</td>\n",
       "      <td>14869</td>\n",
       "      <td>12478</td>\n",
       "      <td>0.959917</td>\n",
       "      <td>-8.0</td>\n",
       "    </tr>\n",
       "    <tr>\n",
       "      <th>2</th>\n",
       "      <td>19</td>\n",
       "      <td>5</td>\n",
       "      <td>4</td>\n",
       "      <td>14057</td>\n",
       "      <td>14869</td>\n",
       "      <td>0.959831</td>\n",
       "      <td>-15.0</td>\n",
       "    </tr>\n",
       "    <tr>\n",
       "      <th>3</th>\n",
       "      <td>19</td>\n",
       "      <td>5</td>\n",
       "      <td>4</td>\n",
       "      <td>15016</td>\n",
       "      <td>11433</td>\n",
       "      <td>0.960520</td>\n",
       "      <td>24.0</td>\n",
       "    </tr>\n",
       "    <tr>\n",
       "      <th>4</th>\n",
       "      <td>19</td>\n",
       "      <td>5</td>\n",
       "      <td>4</td>\n",
       "      <td>11193</td>\n",
       "      <td>12892</td>\n",
       "      <td>0.959788</td>\n",
       "      <td>-11.0</td>\n",
       "    </tr>\n",
       "  </tbody>\n",
       "</table>\n",
       "</div>"
      ],
      "text/plain": [
       "   DayofMonth  DayOfWeek  Carrier  OriginAirportID  DestAirportID  DepDelay  \\\n",
       "0          19          5        4            11433          13303  0.959853   \n",
       "1          19          5        4            14869          12478  0.959917   \n",
       "2          19          5        4            14057          14869  0.959831   \n",
       "3          19          5        4            15016          11433  0.960520   \n",
       "4          19          5        4            11193          12892  0.959788   \n",
       "\n",
       "   ArrDelay  \n",
       "0       1.0  \n",
       "1      -8.0  \n",
       "2     -15.0  \n",
       "3      24.0  \n",
       "4     -11.0  "
      ]
     },
     "execution_count": 11,
     "metadata": {},
     "output_type": "execute_result"
    }
   ],
   "source": [
    "# write you own code for Q04 here\n",
    "max_value = filled_df.loc[:, 'DepDelay'].max()\n",
    "min_value = filled_df.loc[:, 'ArrDelay'].min()\n",
    "\n",
    "def scalling(x):\n",
    "    return (((x - min_value)*2/(max_value - min_value)) - 1)\n",
    "\n",
    "scalled_df = filled_df\n",
    "scalled_df['DepDelay'] = filled_df['DepDelay'].apply(scalling)\n",
    "scalled_df.head()"
   ]
  },
  {
   "cell_type": "markdown",
   "metadata": {},
   "source": [
    "## Question 05 (Q05)\n",
    "The strength of the relationship between two variables can be indicated by correlation value.\n",
    "1. Please calculate correlation value between 'DepDelay' and 'ArrDelay' columns. \n",
    "2. Based on the result of (1), what can you infer?"
   ]
  },
  {
   "cell_type": "code",
   "execution_count": 12,
   "metadata": {},
   "outputs": [
    {
     "data": {
      "text/plain": [
       "0.93944401733278371"
      ]
     },
     "execution_count": 12,
     "metadata": {},
     "output_type": "execute_result"
    }
   ],
   "source": [
    "# write you own code for Q05 here\n",
    "scalled_df['DepDelay'].corr(scalled_df['ArrDelay'])"
   ]
  },
  {
   "cell_type": "markdown",
   "metadata": {},
   "source": [
    "`DepDelay` and `ArrDelay` has strong correlation (near to one)"
   ]
  },
  {
   "cell_type": "code",
   "execution_count": null,
   "metadata": {},
   "outputs": [],
   "source": []
  }
 ],
 "metadata": {
  "kernelspec": {
   "display_name": "Python 3",
   "language": "python",
   "name": "python3"
  },
  "language_info": {
   "codemirror_mode": {
    "name": "ipython",
    "version": 3
   },
   "file_extension": ".py",
   "mimetype": "text/x-python",
   "name": "python",
   "nbconvert_exporter": "python",
   "pygments_lexer": "ipython3",
   "version": "3.7.4"
  }
 },
 "nbformat": 4,
 "nbformat_minor": 2
}
