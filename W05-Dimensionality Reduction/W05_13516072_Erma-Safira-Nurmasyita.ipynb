{
 "cells": [
  {
   "cell_type": "markdown",
   "metadata": {},
   "source": [
    "# Preprocessing - Dimentionality Reduction\n",
    "In this hands-on week, we will try to implement one of popular dimentionality reduction techniques, which is PCA (*Principal Component Analysis*). As explained in the previous week for the mathematical derivation, in this week, you are asked to implement that mathematical formula of PCA to a python function where the code template is provided below. Enjoy~"
   ]
  },
  {
   "cell_type": "markdown",
   "metadata": {},
   "source": [
    "#### Read Digit MNIST to Array 2D\n",
    "1. Code below is provided to read MNIST digit '0' and '1' where the final output is a matrix `original_data` (row is for the number of image being read, 200 images, and column is for image features, which is from image pixels = 784 pixels = 28 pixels $\\times$ 28 pixels),\n",
    "2. From 200 rows, the first 100 rows are digit of '0', and next 100 rows are digit of '1'."
   ]
  },
  {
   "cell_type": "code",
   "execution_count": 1,
   "metadata": {},
   "outputs": [
    {
     "name": "stdout",
     "output_type": "stream",
     "text": [
      "original_data shape: (200, 784)\n",
      "label shape: (200,)\n"
     ]
    }
   ],
   "source": [
    "import numpy as np \n",
    "import cv2 \n",
    "import matplotlib.pyplot as plt\n",
    "import os\n",
    "\n",
    "# function to read MNIST digit to numpy array\n",
    "def baca_image(folder_image):\n",
    "    list_nama_image= os.listdir(folder_image)\n",
    "    list_path_image = [os.path.join(folder_image, i) for i in list_nama_image]\n",
    "    original_data = np.ndarray(shape=(0,28*28))\n",
    "    for i in list_path_image:\n",
    "        image = cv2.imread(i, 0)\n",
    "        image_reshaped = image.reshape((1, -1))\n",
    "        original_data = np.concatenate((original_data, image_reshaped), axis=0)\n",
    "    return original_data\n",
    "        \n",
    "# use the fuction        \n",
    "digit_0 = baca_image(\"digit_mnist/0\")# adjust with your own path\n",
    "digit_1 = baca_image(\"digit_mnist/1\")# adjust with your own path\n",
    "\n",
    "# concatenate digit of '0' and '1'\n",
    "original_data = np.concatenate((digit_0, digit_1), axis=0)\n",
    "print(\"original_data shape:\", original_data.shape)\n",
    "\n",
    "# label\n",
    "label = np.full((200), 0); label[100:200] = 1\n",
    "print(\"label shape:\", label.shape)"
   ]
  },
  {
   "cell_type": "markdown",
   "metadata": {},
   "source": [
    "## Q01\n",
    "A template code is already provided below. In Q01, you are asked to complete the `pca` function so that the `original_data` with 784 features will be reduced to **only 2 features with PCA**."
   ]
  },
  {
   "cell_type": "code",
   "execution_count": 2,
   "metadata": {},
   "outputs": [
    {
     "name": "stderr",
     "output_type": "stream",
     "text": [
      "/usr/local/lib/python3.7/site-packages/numpy/core/_asarray.py:138: ComplexWarning: Casting complex values to real discards the imaginary part\n",
      "  return array(a, dtype, copy=False, order=order, subok=True)\n"
     ]
    },
    {
     "data": {
      "image/png": "[encoded data removed]",
      "text/plain": [
       "<Figure size 432x288 with 1 Axes>"
      ]
     },
     "metadata": {
      "needs_background": "light"
     },
     "output_type": "display_data"
    }
   ],
   "source": [
    "#create PCA function\n",
    "def pca(input_ori, desired_dim):\n",
    "    '''\n",
    "    write code implementation of PCA here\n",
    "    Hint: all the detailed steps are already explained in\n",
    "          the previous week. You may take a look to \"PCA_slide.pdf\"\n",
    "    parameters:\n",
    "    a. input_ori: \"original_data\" in the previous code block\n",
    "    b. desired_dim: desired dimension = 2\n",
    "    \n",
    "    return values:\n",
    "    a. W: projection matrix of PCA\n",
    "    b. Y: projeced/reduced data via PCA\n",
    "    '''\n",
    "    mean_matrix = np.mean(input_ori, axis=0)\n",
    "    covariance_matrix = (input_ori - mean_matrix).transpose().dot((input_ori - mean_matrix))\n",
    "\n",
    "    eigenvalue, eigenvector = np.linalg.eig(covariance_matrix)\n",
    "    max_cols = (-eigenvalue).argsort()[:desired_dim]\n",
    "    \n",
    "    W = eigenvector[:,max_cols]\n",
    "    Y = input_ori.dot(W)\n",
    "    return W, Y \n",
    "\n",
    "# project the original data of MNIST digit with 784 pixels \n",
    "# (28 pixels x 28 pixels) to only two features / dimentions\n",
    "projection_matrix, reduced_data = pca(input_ori=original_data,desired_dim=2)\n",
    "\n",
    "#plotting\n",
    "plt.scatter(reduced_data[0:100:,0], \n",
    "            reduced_data[0:100:,1],\n",
    "            marker=\"^\", c='red', label='Digit 0') #PCA plot for digit of '0'\n",
    "\n",
    "plt.scatter(reduced_data[100:200:,0], \n",
    "            reduced_data[100:200:,1],\n",
    "            marker=\"^\", c='blue', label='Digit 1') #PCA plot for digit of '1'\n",
    "\n",
    "plt.title(\"Reduced data via PCA, from 784 to only 2 feaures\")\n",
    "plt.xlabel(\"feature 1\")\n",
    "plt.ylabel(\"feature 2\")\n",
    "plt.legend()\n",
    "plt.show()"
   ]
  },
  {
   "cell_type": "markdown",
   "metadata": {},
   "source": [
    "#### Illustration of a successfully reduced data via PCA\n",
    "<img src=\"ilustrasi_hasil_PCA.JPG\" alt=\"\" width=\"500\"/>"
   ]
  },
  {
   "cell_type": "markdown",
   "metadata": {},
   "source": [
    "To further understand the use of PCA, we will use the reduced data via PCA to a classifier. In this case, we will compare the accuracy when using: (i) `original_data` vs (ii) `reduced_data`."
   ]
  },
  {
   "cell_type": "markdown",
   "metadata": {},
   "source": [
    "## Q02\n",
    "Before feeding to classifier, we will split our data to training and testing data.<br>\n",
    "a. Please split `original_data` using `StratifiedShuffleSplit` API of scikit-learn with `n_splits=1` and ratio of `70%:30%` for `training:testing data`. From this, we will have: (i) `training_input`, (ii) `training_label`, (iii) `testing_input` and (iv) `testing_label`."
   ]
  },
  {
   "cell_type": "code",
   "execution_count": 3,
   "metadata": {},
   "outputs": [],
   "source": [
    "from sklearn.model_selection import StratifiedShuffleSplit\n",
    "\n",
    "sss = StratifiedShuffleSplit(n_splits=1, test_size=0.3)\n",
    "\n",
    "for train_index, test_index in sss.split(original_data, label):\n",
    "    training_input, testing_input = original_data[train_index], original_data[test_index]\n",
    "    training_label, testing_label = label[train_index], label[test_index]"
   ]
  },
  {
   "cell_type": "markdown",
   "metadata": {},
   "source": [
    "## Q03\n",
    "a. Train a `DecisionTreeClassifier` (scikit-learn) using training data (`training_input` and `training_label`) of `original_data` you got in Q02, then test the trained model using testing data (`testing_input` and `testing_label`) and calculate the accuracy."
   ]
  },
  {
   "cell_type": "code",
   "execution_count": 8,
   "metadata": {},
   "outputs": [
    {
     "name": "stdout",
     "output_type": "stream",
     "text": [
      "Score:  0.9833333333333333\n"
     ]
    }
   ],
   "source": [
    "from sklearn.tree import DecisionTreeClassifier\n",
    "from sklearn.metrics import accuracy_score\n",
    "\n",
    "clf = DecisionTreeClassifier()\n",
    "clf = clf.fit(training_input, training_label)\n",
    "testing_pred = clf.predict(testing_input)\n",
    "\n",
    "print('Score: ', accuracy_score(testing_label, testing_pred))"
   ]
  },
  {
   "cell_type": "markdown",
   "metadata": {},
   "source": [
    "## Q04"
   ]
  },
  {
   "cell_type": "markdown",
   "metadata": {},
   "source": [
    "From Q02(a), you have (i) `training_input`, (ii) `training_label`, (iii) `testing_input` and (iv) `testing_label`: <br><br>\n",
    "a. Project `training_input` using `pca` function you aready complete before. Here, you will get `projection_matrix` and `reduced_training_input`.<br>\n",
    "b. Project `testing_input` by this formula $\\rightarrow$ `reduced_testing_input` = `testing_input` $\\times$ `projection_matrix`.<br>\n",
    "c. Train a `DecisionTreeClassifier` using `reduced_training_input` & `training_label`, test the trained model using `reduced_testing_input` & `testing_label`, and calculate the accuracy.<br><br>\n",
    "**Hint:** You may get complex numbers (real-imaginer numbers) from PCA. In this case, you need to convert complex number to real number before feeding to the classifier in Q04(c)."
   ]
  },
  {
   "cell_type": "code",
   "execution_count": 38,
   "metadata": {},
   "outputs": [
    {
     "name": "stdout",
     "output_type": "stream",
     "text": [
      "Score:  0.9666666666666667\n"
     ]
    }
   ],
   "source": [
    "# Project training_input\n",
    "proj_matrix, reduced_training_input = pca(input_ori=training_input, desired_dim=2)\n",
    "\n",
    "# Project testing_input\n",
    "reduced_testing_input = testing_input.dot(proj_matrix)\n",
    "\n",
    "clf = DecisionTreeClassifier()\n",
    "clf = clf.fit(np.real(reduced_training_input), training_label)\n",
    "\n",
    "testing_pred = clf.predict(np.real(reduced_testing_input))\n",
    "\n",
    "print('Score: ', accuracy_score(testing_label, testing_pred))"
   ]
  },
  {
   "cell_type": "markdown",
   "metadata": {},
   "source": [
    "## Q05\n",
    "How much accuracy do you get from training: \"original data\" (Q03) and \"reduced data via PCA\" (Q04.c)? Is it close or different enough? What can you infer from that?"
   ]
  },
  {
   "cell_type": "markdown",
   "metadata": {},
   "source": [
    "The accuracy we got from classification with original data is 0.9833 and reduced data is 0.9667. The score are dynamically changing as training and testing data changed, but the results are close enough. That means reduced data with PCA can give a close accuracy to the original one, and it is good enough since it reduced computational complexity from classifying 784 features into 2 features only."
   ]
  },
  {
   "cell_type": "code",
   "execution_count": null,
   "metadata": {},
   "outputs": [],
   "source": []
  }
 ],
 "metadata": {
  "kernelspec": {
   "display_name": "Python 3",
   "language": "python",
   "name": "python3"
  },
  "language_info": {
   "codemirror_mode": {
    "name": "ipython",
    "version": 3
   },
   "file_extension": ".py",
   "mimetype": "text/x-python",
   "name": "python",
   "nbconvert_exporter": "python",
   "pygments_lexer": "ipython3",
   "version": "3.7.4"
  }
 },
 "nbformat": 4,
 "nbformat_minor": 2
}
